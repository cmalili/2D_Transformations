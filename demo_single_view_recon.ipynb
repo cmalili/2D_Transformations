{
  "cells": [
    {
      "cell_type": "code",
      "source": [
        "from google.colab import drive\n",
        "drive.mount('/content/drive')"
      ],
      "metadata": {
        "id": "6zkA1PQdzw6E",
        "outputId": "dfad0150-73ea-479d-cf69-87d41e176b8d",
        "colab": {
          "base_uri": "https://localhost:8080/"
        }
      },
      "execution_count": 1,
      "outputs": [
        {
          "output_type": "stream",
          "name": "stdout",
          "text": [
            "Mounted at /content/drive\n"
          ]
        }
      ]
    },
    {
      "cell_type": "code",
      "source": [
        "# 1) Clone the full AutoSDF repo\n",
        "!git clone https://github.com/yccyenchicheng/AutoSDF.git\n",
        "\n",
        "# 2) Move into its root so relative imports like `import utils` work\n",
        "%cd AutoSDF\n"
      ],
      "metadata": {
        "id": "EWhL0XY4ppqF",
        "outputId": "1a69b867-e6e1-4c66-8e35-e0f9b72ef17d",
        "colab": {
          "base_uri": "https://localhost:8080/"
        }
      },
      "execution_count": 2,
      "outputs": [
        {
          "output_type": "stream",
          "name": "stdout",
          "text": [
            "Cloning into 'AutoSDF'...\n",
            "remote: Enumerating objects: 509, done.\u001b[K\n",
            "remote: Counting objects: 100% (25/25), done.\u001b[K\n",
            "remote: Compressing objects: 100% (14/14), done.\u001b[K\n",
            "remote: Total 509 (delta 12), reused 11 (delta 11), pack-reused 484 (from 1)\u001b[K\n",
            "Receiving objects: 100% (509/509), 58.89 MiB | 16.97 MiB/s, done.\n",
            "Resolving deltas: 100% (53/53), done.\n",
            "/content/AutoSDF\n"
          ]
        }
      ]
    },
    {
      "cell_type": "code",
      "source": [
        "!pip install -q trimesh h5py einops PyMCubes\n"
      ],
      "metadata": {
        "id": "lowaanxpp_-W",
        "outputId": "c2a9b29e-f5e0-480b-98a3-d2c751a18b09",
        "colab": {
          "base_uri": "https://localhost:8080/"
        }
      },
      "execution_count": 3,
      "outputs": [
        {
          "output_type": "stream",
          "name": "stdout",
          "text": [
            "\u001b[?25l   \u001b[90m━━━━━━━━━━━━━━━━━━━━━━━━━━━━━━━━━━━━━━━━\u001b[0m \u001b[32m0.0/709.3 kB\u001b[0m \u001b[31m?\u001b[0m eta \u001b[36m-:--:--\u001b[0m\r\u001b[2K   \u001b[90m━━━━━━━━━━━━━━━━━━━━━━━━━━━━━━━━━━━━━━━━\u001b[0m \u001b[32m709.3/709.3 kB\u001b[0m \u001b[31m41.7 MB/s\u001b[0m eta \u001b[36m0:00:00\u001b[0m\n",
            "\u001b[?25h\u001b[?25l   \u001b[90m━━━━━━━━━━━━━━━━━━━━━━━━━━━━━━━━━━━━━━━━\u001b[0m \u001b[32m0.0/336.8 kB\u001b[0m \u001b[31m?\u001b[0m eta \u001b[36m-:--:--\u001b[0m\r\u001b[2K   \u001b[90m━━━━━━━━━━━━━━━━━━━━━━━━━━━━━━━━━━━━━━━━\u001b[0m \u001b[32m336.8/336.8 kB\u001b[0m \u001b[31m33.1 MB/s\u001b[0m eta \u001b[36m0:00:00\u001b[0m\n",
            "\u001b[?25h"
          ]
        }
      ]
    },
    {
      "cell_type": "code",
      "source": [
        "import mcubes, sys\n",
        "sys.modules['marching_cubes'] = mcubes"
      ],
      "metadata": {
        "id": "gtzBBidaqeOL"
      },
      "execution_count": 4,
      "outputs": []
    },
    {
      "cell_type": "code",
      "source": [
        "# 1) Install deps\n",
        "!pip install -q fvcore iopath\n",
        "\n",
        "# 2) Clone & install PyTorch3D\n",
        "!pip install -q 'git+https://github.com/facebookresearch/pytorch3d.git@stable'\n"
      ],
      "metadata": {
        "id": "zzQiArEGr5HQ",
        "outputId": "6f2804d8-4960-4ede-ec96-2ecba09ee633",
        "colab": {
          "base_uri": "https://localhost:8080/"
        }
      },
      "execution_count": 5,
      "outputs": [
        {
          "output_type": "stream",
          "name": "stdout",
          "text": [
            "\u001b[2K     \u001b[90m━━━━━━━━━━━━━━━━━━━━━━━━━━━━━━━━━━━━━━━━\u001b[0m \u001b[32m50.2/50.2 kB\u001b[0m \u001b[31m4.3 MB/s\u001b[0m eta \u001b[36m0:00:00\u001b[0m\n",
            "\u001b[?25h  Preparing metadata (setup.py) ... \u001b[?25l\u001b[?25hdone\n",
            "\u001b[2K     \u001b[90m━━━━━━━━━━━━━━━━━━━━━━━━━━━━━━━━━━━━━━━━\u001b[0m \u001b[32m42.2/42.2 kB\u001b[0m \u001b[31m3.8 MB/s\u001b[0m eta \u001b[36m0:00:00\u001b[0m\n",
            "\u001b[?25h  Preparing metadata (setup.py) ... \u001b[?25l\u001b[?25hdone\n",
            "  Building wheel for fvcore (setup.py) ... \u001b[?25l\u001b[?25hdone\n",
            "  Building wheel for iopath (setup.py) ... \u001b[?25l\u001b[?25hdone\n",
            "  Preparing metadata (setup.py) ... \u001b[?25l\u001b[?25hdone\n",
            "  Building wheel for pytorch3d (setup.py) ... \u001b[?25l\u001b[?25hdone\n"
          ]
        }
      ]
    },
    {
      "cell_type": "code",
      "source": [
        "import torch, pytorch3d\n",
        "print(\"Torch:\", torch.__version__, \" CUDA:\", torch.version.cuda)\n",
        "print(\"PyTorch3D:\", pytorch3d.__version__)\n"
      ],
      "metadata": {
        "id": "58gxP-XMw7Wc",
        "outputId": "71397873-c79e-4917-d698-3ea085095643",
        "colab": {
          "base_uri": "https://localhost:8080/"
        }
      },
      "execution_count": 6,
      "outputs": [
        {
          "output_type": "stream",
          "name": "stdout",
          "text": [
            "Torch: 2.6.0+cu124  CUDA: 12.4\n",
            "PyTorch3D: 0.7.8\n"
          ]
        }
      ]
    },
    {
      "cell_type": "code",
      "execution_count": 7,
      "source": [
        "import os\n",
        "%matplotlib inline\n",
        "import matplotlib\n",
        "import matplotlib.pyplot as plt\n",
        "import torch.backends.cudnn as cudnn\n",
        "import torchvision.utils as vutils\n",
        "cudnn.benchmark = True\n",
        "\n",
        "# some utility function for visualization\n",
        "import utils\n",
        "from utils.util_3d import init_mesh_renderer, sdf_to_mesh\n",
        "\n",
        "# some utility function\n",
        "from utils.qual_util import save_mesh_as_gif\n",
        "from IPython.display import Image as ipy_image\n",
        "from IPython.display import display\n",
        "\n",
        "%reload_ext autoreload\n",
        "%autoreload 2"
      ],
      "outputs": [],
      "metadata": {
        "id": "FQZH8skLfojc"
      }
    },
    {
      "cell_type": "code",
      "source": [
        "!pip install -q omegaconf\n"
      ],
      "metadata": {
        "id": "HSqkQdfjxhZN",
        "outputId": "8d3b67bf-183c-4426-e7d6-78035443d682",
        "colab": {
          "base_uri": "https://localhost:8080/"
        }
      },
      "execution_count": 8,
      "outputs": [
        {
          "output_type": "stream",
          "name": "stdout",
          "text": [
            "\u001b[2K     \u001b[90m━━━━━━━━━━━━━━━━━━━━━━━━━━━━━━━━━━━━━━\u001b[0m \u001b[32m117.0/117.0 kB\u001b[0m \u001b[31m11.3 MB/s\u001b[0m eta \u001b[36m0:00:00\u001b[0m\n",
            "\u001b[?25h  Preparing metadata (setup.py) ... \u001b[?25l\u001b[?25hdone\n",
            "\u001b[2K   \u001b[90m━━━━━━━━━━━━━━━━━━━━━━━━━━━━━━━━━━━━━━━━\u001b[0m \u001b[32m79.5/79.5 kB\u001b[0m \u001b[31m7.1 MB/s\u001b[0m eta \u001b[36m0:00:00\u001b[0m\n",
            "\u001b[?25h  Building wheel for antlr4-python3-runtime (setup.py) ... \u001b[?25l\u001b[?25hdone\n"
          ]
        }
      ]
    },
    {
      "cell_type": "code",
      "source": [
        "# 1) Make sure the repo root is on your path\n",
        "import sys\n",
        "sys.path.append(\"/content/AutoSDF\")\n",
        "\n",
        "# 2) Monkey‐patch configs.paths with the correct TSDF root\n",
        "import configs.paths\n",
        "configs.paths.dataroot = \"/content/drive/MyDrive/shapenetv1/shapenetv1_tsdf32\""
      ],
      "metadata": {
        "id": "QAT1sNHbyR60"
      },
      "execution_count": 9,
      "outputs": []
    },
    {
      "cell_type": "code",
      "source": [
        "# 1) Install gdown if you don’t have it\n",
        "!pip install -q gdown\n",
        "\n",
        "# 2) Create the saved_ckpt folder\n",
        "!mkdir -p /content/AutoSDF/saved_ckpt\n",
        "\n",
        "# 3) Download all files from the Drive folder into saved_ckpt\n",
        "!gdown --folder https://drive.google.com/drive/folders/1n8W_8CfQ7uZDYNrv487sd0oyhRoNLfGo \\\n",
        "        -O /content/AutoSDF/saved_ckpt\n"
      ],
      "metadata": {
        "id": "487wtqSOzXZA",
        "outputId": "6463172d-9fe1-45e1-fd43-0190d520a729",
        "colab": {
          "base_uri": "https://localhost:8080/"
        }
      },
      "execution_count": 10,
      "outputs": [
        {
          "output_type": "stream",
          "name": "stdout",
          "text": [
            "Retrieving folder contents\n",
            "Processing file 1ZH3JMGXcO-C8Gp3iTgzmt4Ig8bpgQmCv bert2vq_epoch-145.pth\n",
            "Processing file 1clfH8AfX90bIxxFw7sHYK-u0aWuahE_f pvqvae-snet-all-LR1e-4-T0.2-rerun-epoch140.pth\n",
            "Processing file 1Zy-L9ADw2h4nWJG4QmaWhALk1Cpe1jw8 rand_tf-snet_code-all-LR1e-4-clean-epoch200.pth\n",
            "Processing file 1IzEXuUiE4nt8axizxZK2w7XBp5qq0RyE resnet2vq-pix3d_img-all-LR1e-4-cleanCode-pix3dMode-noBG-epoch40.pth\n",
            "Retrieving folder contents completed\n",
            "Building directory structure\n",
            "Building directory structure completed\n",
            "Downloading...\n",
            "From (original): https://drive.google.com/uc?id=1ZH3JMGXcO-C8Gp3iTgzmt4Ig8bpgQmCv\n",
            "From (redirected): https://drive.google.com/uc?id=1ZH3JMGXcO-C8Gp3iTgzmt4Ig8bpgQmCv&confirm=t&uuid=db513a4f-4a74-4996-b621-7ec197b16aff\n",
            "To: /content/AutoSDF/saved_ckpt/bert2vq_epoch-145.pth\n",
            "100% 485M/485M [00:08<00:00, 60.1MB/s]\n",
            "Downloading...\n",
            "From (original): https://drive.google.com/uc?id=1clfH8AfX90bIxxFw7sHYK-u0aWuahE_f\n",
            "From (redirected): https://drive.google.com/uc?id=1clfH8AfX90bIxxFw7sHYK-u0aWuahE_f&confirm=t&uuid=824a7117-3225-4267-8200-8ecb72dbf0fa\n",
            "To: /content/AutoSDF/saved_ckpt/pvqvae-snet-all-LR1e-4-T0.2-rerun-epoch140.pth\n",
            "100% 133M/133M [00:04<00:00, 30.1MB/s]\n",
            "Downloading...\n",
            "From (original): https://drive.google.com/uc?id=1Zy-L9ADw2h4nWJG4QmaWhALk1Cpe1jw8\n",
            "From (redirected): https://drive.google.com/uc?id=1Zy-L9ADw2h4nWJG4QmaWhALk1Cpe1jw8&confirm=t&uuid=6ede739f-001f-48b8-99e0-b972404e74c9\n",
            "To: /content/AutoSDF/saved_ckpt/rand_tf-snet_code-all-LR1e-4-clean-epoch200.pth\n",
            "100% 269M/269M [00:05<00:00, 49.4MB/s]\n",
            "Downloading...\n",
            "From (original): https://drive.google.com/uc?id=1IzEXuUiE4nt8axizxZK2w7XBp5qq0RyE\n",
            "From (redirected): https://drive.google.com/uc?id=1IzEXuUiE4nt8axizxZK2w7XBp5qq0RyE&confirm=t&uuid=c2f1c65c-c582-4f71-a8f0-d97bdadb740b\n",
            "To: /content/AutoSDF/saved_ckpt/resnet2vq-pix3d_img-all-LR1e-4-cleanCode-pix3dMode-noBG-epoch40.pth\n",
            "100% 211M/211M [00:03<00:00, 54.3MB/s]\n",
            "Download completed\n"
          ]
        }
      ]
    },
    {
      "cell_type": "code",
      "execution_count": 21,
      "source": [
        "from utils.demo_util import get_shape_comp_opt, get_shape_comp_model\n",
        "from utils.qual_util import load_resnet2vq_model\n",
        "\n",
        "\"\"\" setup opt\"\"\"\n",
        "gpu_id = 0\n",
        "\n",
        "opt = get_shape_comp_opt(gpu_id=gpu_id)\n",
        "\n",
        "opt.gpu_id = 0\n",
        "\n",
        "\"\"\" setup models \"\"\"\n",
        "model = get_shape_comp_model(opt)\n",
        "\n",
        "device = torch.device(f\"cuda:{opt.gpu_id}\" if opt.gpu_id >= 0 else \"cpu\")\n",
        "\n",
        "# Move all internal index-tensors to the same device\n",
        "for attr in (\"x_idx_seq\", \"gen_order\", \"grid_table\"):\n",
        "    if hasattr(model, attr):\n",
        "        setattr(model, attr, getattr(model, attr).to(device))\n",
        "\n",
        "opt.vq_note = 'default'\n",
        "model.eval()\n",
        "\n",
        "# img marginal model\n",
        "resnet2vq = load_resnet2vq_model(opt)\n",
        "\n",
        "\"\"\" setup renderer \"\"\"\n",
        "dist, elev, azim = 1.7, 20, 20\n",
        "mesh_renderer = init_mesh_renderer(image_size=256, dist=dist, elev=elev, azim=azim, device=opt.device)"
      ],
      "outputs": [
        {
          "output_type": "stream",
          "name": "stdout",
          "text": [
            "[*] Enc has Attn at i_level, i_block: 3, 0\n",
            "Working with z of shape (1, 256, 8, 8, 8) = 131072 dimensions.\n",
            "[*] Dec has Attn at i_level, i_block: 3, 0\n",
            "[*] VQVAE: weight successfully load from: saved_ckpt/pvqvae-snet-all-LR1e-4-T0.2-rerun-epoch140.pth\n",
            "[*] Model has been created: Rand-Transformer-Model\n",
            "[*] \"rand_tf\" initialized.\n",
            "[*] weight successfully load from: saved_ckpt/rand_tf-snet_code-all-LR1e-4-clean-epoch200.pth\n",
            "[*] loading state_dict with strict=False!\n",
            "[*] resnet18 successfully loaded from https://download.pytorch.org/models/resnet18-f37072fd.pth.\n"
          ]
        }
      ],
      "metadata": {
        "id": "xE-6u31yfojf",
        "outputId": "f109bce0-9680-4a90-ee53-bc43b96ba1c5",
        "colab": {
          "base_uri": "https://localhost:8080/"
        }
      }
    },
    {
      "cell_type": "code",
      "execution_count": 22,
      "source": [
        "\"\"\" setup pix3d img dataset and image marginal model \"\"\"\n",
        "from utils.qual_util import load_resnet2vq_model, preprocess_img\n",
        "\n",
        "# load and preprocess image\n",
        "img_path = 'demo_data/chair_2598.jpg'\n",
        "img_mask_path = 'demo_data/chair_2598_mask.png'\n",
        "\n",
        "img_input = preprocess_img(img_path, img_mask_path)\n",
        "\n",
        "img_name = 'demo_data/tmp.png'\n",
        "vutils.save_image(img_input/2+.5, img_name)\n",
        "display(ipy_image(img_name))"
      ],
      "outputs": [
        {
          "output_type": "display_data",
          "data": {
            "image/png": "[encoded data removed]",
            "text/plain": [
              "<IPython.core.display.Image object>"
            ]
          },
          "metadata": {}
        }
      ],
      "metadata": {
        "id": "Zmj9gQXHfojf",
        "outputId": "b0332aa6-e52a-4660-f502-e8cf67f9b1c5",
        "colab": {
          "base_uri": "https://localhost:8080/",
          "height": 273
        }
      }
    },
    {
      "cell_type": "code",
      "source": [
        "import torch\n",
        "from models.rand_tf_model import RandTransformerModel\n",
        "\n",
        "# Keep a reference to the original\n",
        "_orig_set_input = RandTransformerModel.set_input\n",
        "\n",
        "def _patched_set_input(self, input, gen_order):\n",
        "    # Move everything to the same device\n",
        "    device = input.device\n",
        "    gen_order = gen_order.to(device)\n",
        "    # These buffers may already exist, but ensure they live on GPU too\n",
        "    if hasattr(self, 'x_idx_seq'):\n",
        "        self.x_idx_seq = self.x_idx_seq.to(device)\n",
        "    if hasattr(self, 'grid_table'):\n",
        "        self.grid_table = self.grid_table.to(device)\n",
        "    # Now call the original logic\n",
        "    return _orig_set_input(self, input.to(device), gen_order)\n",
        "\n",
        "# Monkey-patch the method\n",
        "RandTransformerModel.set_input = _patched_set_input\n"
      ],
      "metadata": {
        "id": "nF6n3yU5AGG5"
      },
      "execution_count": 24,
      "outputs": []
    },
    {
      "cell_type": "code",
      "source": [
        "import torch\n",
        "from models.rand_tf_model import RandTransformerModel\n",
        "\n",
        "# keep pointer to the original method\n",
        "_orig_set_input = RandTransformerModel.set_input\n",
        "\n",
        "def _patched_set_input(self, input_dict, gen_order):\n",
        "    # 1) figure out the device from the first tensor in the input dict\n",
        "    for v in input_dict.values():\n",
        "        if torch.is_tensor(v):\n",
        "            device = v.device\n",
        "            break\n",
        "    else:\n",
        "        device = torch.device(\"cpu\")\n",
        "\n",
        "    # 2) move all tensors in input_dict to that device\n",
        "    for k,v in list(input_dict.items()):\n",
        "        if torch.is_tensor(v):\n",
        "            input_dict[k] = v.to(device)\n",
        "\n",
        "    # 3) move gen_order and internal buffers to the same device\n",
        "    gen_order = gen_order.to(device)\n",
        "    if hasattr(self, 'x_idx_seq'):\n",
        "        self.x_idx_seq = self.x_idx_seq.to(device)\n",
        "    if hasattr(self, 'grid_table'):\n",
        "        self.grid_table = self.grid_table.to(device)\n",
        "\n",
        "    # 4) call the original logic with everything on the right device\n",
        "    return _orig_set_input(self, input_dict, gen_order)\n",
        "\n",
        "# apply the patch\n",
        "RandTransformerModel.set_input = _patched_set_input\n"
      ],
      "metadata": {
        "id": "LV8oIzqlAuZs"
      },
      "execution_count": 26,
      "outputs": []
    },
    {
      "cell_type": "code",
      "execution_count": 27,
      "source": [
        "\"\"\" single-view reconstruction \"\"\"\n",
        "nimgs = 3\n",
        "topk = 10\n",
        "alpha = 0.7\n",
        "\n",
        "single_view_recon = model.single_view_recon(img_input, resnet2vq, bs=nimgs, topk=topk, alpha=alpha)\n",
        "\n",
        "gen_mesh = sdf_to_mesh(single_view_recon)\n",
        "\n",
        "# save as gif\n",
        "res_dir = 'results'\n",
        "gen_gif_name = f'{res_dir}/single-view-gen.gif'\n",
        "save_mesh_as_gif(mesh_renderer, gen_mesh, nrow=3, out_name=gen_gif_name)\n",
        "\n",
        "for name in [img_name, gen_gif_name]:\n",
        "    display(ipy_image(name))"
      ],
      "outputs": [
        {
          "output_type": "error",
          "ename": "AttributeError",
          "evalue": "'NoneType' object has no attribute 'to'",
          "traceback": [
            "\u001b[0;31m---------------------------------------------------------------------------\u001b[0m",
            "\u001b[0;31mAttributeError\u001b[0m                            Traceback (most recent call last)",
            "\u001b[0;32m<ipython-input-27-40459bc0a941>\u001b[0m in \u001b[0;36m<cell line: 0>\u001b[0;34m()\u001b[0m\n\u001b[1;32m      4\u001b[0m \u001b[0malpha\u001b[0m \u001b[0;34m=\u001b[0m \u001b[0;36m0.7\u001b[0m\u001b[0;34m\u001b[0m\u001b[0;34m\u001b[0m\u001b[0m\n\u001b[1;32m      5\u001b[0m \u001b[0;34m\u001b[0m\u001b[0m\n\u001b[0;32m----> 6\u001b[0;31m \u001b[0msingle_view_recon\u001b[0m \u001b[0;34m=\u001b[0m \u001b[0mmodel\u001b[0m\u001b[0;34m.\u001b[0m\u001b[0msingle_view_recon\u001b[0m\u001b[0;34m(\u001b[0m\u001b[0mimg_input\u001b[0m\u001b[0;34m,\u001b[0m \u001b[0mresnet2vq\u001b[0m\u001b[0;34m,\u001b[0m \u001b[0mbs\u001b[0m\u001b[0;34m=\u001b[0m\u001b[0mnimgs\u001b[0m\u001b[0;34m,\u001b[0m \u001b[0mtopk\u001b[0m\u001b[0;34m=\u001b[0m\u001b[0mtopk\u001b[0m\u001b[0;34m,\u001b[0m \u001b[0malpha\u001b[0m\u001b[0;34m=\u001b[0m\u001b[0malpha\u001b[0m\u001b[0;34m)\u001b[0m\u001b[0;34m\u001b[0m\u001b[0;34m\u001b[0m\u001b[0m\n\u001b[0m\u001b[1;32m      7\u001b[0m \u001b[0;34m\u001b[0m\u001b[0m\n\u001b[1;32m      8\u001b[0m \u001b[0mgen_mesh\u001b[0m \u001b[0;34m=\u001b[0m \u001b[0msdf_to_mesh\u001b[0m\u001b[0;34m(\u001b[0m\u001b[0msingle_view_recon\u001b[0m\u001b[0;34m)\u001b[0m\u001b[0;34m\u001b[0m\u001b[0;34m\u001b[0m\u001b[0m\n",
            "\u001b[0;32m/content/AutoSDF/models/rand_tf_model.py\u001b[0m in \u001b[0;36msingle_view_recon\u001b[0;34m(self, img_tensor, resnet2vq, bs, topk, alpha)\u001b[0m\n\u001b[1;32m    341\u001b[0m         \u001b[0mimg_prob\u001b[0m \u001b[0;34m=\u001b[0m \u001b[0mimg_prob\u001b[0m\u001b[0;34m.\u001b[0m\u001b[0mrepeat\u001b[0m\u001b[0;34m(\u001b[0m\u001b[0;36m1\u001b[0m\u001b[0;34m,\u001b[0m \u001b[0mbs\u001b[0m\u001b[0;34m,\u001b[0m \u001b[0;36m1\u001b[0m\u001b[0;34m)\u001b[0m\u001b[0;34m\u001b[0m\u001b[0;34m\u001b[0m\u001b[0m\n\u001b[1;32m    342\u001b[0m \u001b[0;34m\u001b[0m\u001b[0m\n\u001b[0;32m--> 343\u001b[0;31m         \u001b[0mself\u001b[0m\u001b[0;34m.\u001b[0m\u001b[0minference\u001b[0m\u001b[0;34m(\u001b[0m\u001b[0mdata\u001b[0m\u001b[0;34m,\u001b[0m \u001b[0mtopk\u001b[0m\u001b[0;34m=\u001b[0m\u001b[0;36m30\u001b[0m\u001b[0;34m,\u001b[0m \u001b[0mprob\u001b[0m\u001b[0;34m=\u001b[0m\u001b[0mimg_prob\u001b[0m\u001b[0;34m,\u001b[0m \u001b[0malpha\u001b[0m\u001b[0;34m=\u001b[0m\u001b[0malpha\u001b[0m\u001b[0;34m)\u001b[0m\u001b[0;34m\u001b[0m\u001b[0;34m\u001b[0m\u001b[0m\n\u001b[0m\u001b[1;32m    344\u001b[0m \u001b[0;34m\u001b[0m\u001b[0m\n\u001b[1;32m    345\u001b[0m         \u001b[0;32mreturn\u001b[0m \u001b[0mself\u001b[0m\u001b[0;34m.\u001b[0m\u001b[0mx_recon_tf\u001b[0m\u001b[0;34m\u001b[0m\u001b[0;34m\u001b[0m\u001b[0m\n",
            "\u001b[0;32m/content/AutoSDF/models/rand_tf_model.py\u001b[0m in \u001b[0;36minference\u001b[0;34m(self, data, seq_len, gen_order, topk, prob, alpha, should_render, verbose)\u001b[0m\n\u001b[1;32m    246\u001b[0m                 \u001b[0mseq_len\u001b[0m \u001b[0;34m=\u001b[0m \u001b[0mlen\u001b[0m\u001b[0;34m(\u001b[0m\u001b[0mgen_order\u001b[0m\u001b[0;34m)\u001b[0m\u001b[0;34m+\u001b[0m\u001b[0;36m1\u001b[0m\u001b[0;34m\u001b[0m\u001b[0;34m\u001b[0m\u001b[0m\n\u001b[1;32m    247\u001b[0m \u001b[0;34m\u001b[0m\u001b[0m\n\u001b[0;32m--> 248\u001b[0;31m         \u001b[0mself\u001b[0m\u001b[0;34m.\u001b[0m\u001b[0mset_input\u001b[0m\u001b[0;34m(\u001b[0m\u001b[0mdata\u001b[0m\u001b[0;34m,\u001b[0m \u001b[0mgen_order\u001b[0m\u001b[0;34m=\u001b[0m\u001b[0mgen_order\u001b[0m\u001b[0;34m)\u001b[0m\u001b[0;34m\u001b[0m\u001b[0;34m\u001b[0m\u001b[0m\n\u001b[0m\u001b[1;32m    249\u001b[0m \u001b[0;34m\u001b[0m\u001b[0m\n\u001b[1;32m    250\u001b[0m         \u001b[0mT\u001b[0m \u001b[0;34m=\u001b[0m \u001b[0mself\u001b[0m\u001b[0;34m.\u001b[0m\u001b[0mx_idx_seq\u001b[0m\u001b[0;34m.\u001b[0m\u001b[0mshape\u001b[0m\u001b[0;34m[\u001b[0m\u001b[0;36m0\u001b[0m\u001b[0;34m]\u001b[0m \u001b[0;34m+\u001b[0m \u001b[0;36m1\u001b[0m \u001b[0;31m# +1 since <sos>\u001b[0m\u001b[0;34m\u001b[0m\u001b[0;34m\u001b[0m\u001b[0m\n",
            "\u001b[0;32m<ipython-input-26-5d33ecb41f09>\u001b[0m in \u001b[0;36m_patched_set_input\u001b[0;34m(self, input_dict, gen_order)\u001b[0m\n\u001b[1;32m     20\u001b[0m \u001b[0;34m\u001b[0m\u001b[0m\n\u001b[1;32m     21\u001b[0m     \u001b[0;31m# 3) move gen_order and internal buffers to the same device\u001b[0m\u001b[0;34m\u001b[0m\u001b[0;34m\u001b[0m\u001b[0m\n\u001b[0;32m---> 22\u001b[0;31m     \u001b[0mgen_order\u001b[0m \u001b[0;34m=\u001b[0m \u001b[0mgen_order\u001b[0m\u001b[0;34m.\u001b[0m\u001b[0mto\u001b[0m\u001b[0;34m(\u001b[0m\u001b[0mdevice\u001b[0m\u001b[0;34m)\u001b[0m\u001b[0;34m\u001b[0m\u001b[0;34m\u001b[0m\u001b[0m\n\u001b[0m\u001b[1;32m     23\u001b[0m     \u001b[0;32mif\u001b[0m \u001b[0mhasattr\u001b[0m\u001b[0;34m(\u001b[0m\u001b[0mself\u001b[0m\u001b[0;34m,\u001b[0m \u001b[0;34m'x_idx_seq'\u001b[0m\u001b[0;34m)\u001b[0m\u001b[0;34m:\u001b[0m\u001b[0;34m\u001b[0m\u001b[0;34m\u001b[0m\u001b[0m\n\u001b[1;32m     24\u001b[0m         \u001b[0mself\u001b[0m\u001b[0;34m.\u001b[0m\u001b[0mx_idx_seq\u001b[0m \u001b[0;34m=\u001b[0m \u001b[0mself\u001b[0m\u001b[0;34m.\u001b[0m\u001b[0mx_idx_seq\u001b[0m\u001b[0;34m.\u001b[0m\u001b[0mto\u001b[0m\u001b[0;34m(\u001b[0m\u001b[0mdevice\u001b[0m\u001b[0;34m)\u001b[0m\u001b[0;34m\u001b[0m\u001b[0;34m\u001b[0m\u001b[0m\n",
            "\u001b[0;31mAttributeError\u001b[0m: 'NoneType' object has no attribute 'to'"
          ]
        }
      ],
      "metadata": {
        "id": "404hjFrGfojf",
        "outputId": "c51ae4b1-b209-47ab-ef68-cfdad177a7a0",
        "colab": {
          "base_uri": "https://localhost:8080/",
          "height": 356
        }
      }
    },
    {
      "cell_type": "code",
      "execution_count": null,
      "source": [],
      "outputs": [],
      "metadata": {
        "id": "-kRdikdLfojg"
      }
    }
  ],
  "metadata": {
    "interpreter": {
      "hash": "1f1b280d0bad175b79e1457252213b00f343fb3cb82239855346bed4f09bff33"
    },
    "kernelspec": {
      "name": "python3",
      "display_name": "Python 3"
    },
    "language_info": {
      "codemirror_mode": {
        "name": "ipython",
        "version": 3
      },
      "file_extension": ".py",
      "mimetype": "text/x-python",
      "name": "python",
      "nbconvert_exporter": "python",
      "pygments_lexer": "ipython3",
      "version": "3.8.11"
    },
    "colab": {
      "provenance": [],
      "machine_shape": "hm",
      "gpuType": "A100"
    },
    "accelerator": "GPU"
  },
  "nbformat": 4,
  "nbformat_minor": 0
}